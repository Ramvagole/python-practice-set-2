{
 "cells": [
  {
   "cell_type": "code",
   "execution_count": 6,
   "id": "d4f98970-4f18-4df2-8e24-c4ba6da15cf0",
   "metadata": {},
   "outputs": [
    {
     "name": "stdout",
     "output_type": "stream",
     "text": [
      "[2, 3, 4, 5, 6, 'apple', 7, 'mango', 'banana', 'grapes']\n"
     ]
    }
   ],
   "source": [
    "#Q1):-\n",
    "a=[2,3,4,5,6,7]\n",
    "a.extend([\"mango\",\"banana\",\"grapes\",\"orange\"])\n",
    "a.insert(5,\"apple\")\n",
    "a.pop()\n",
    "print(a)\n"
   ]
  },
  {
   "cell_type": "code",
   "execution_count": 8,
   "id": "74652355-e88f-480d-b272-4b82f0a89d12",
   "metadata": {},
   "outputs": [
    {
     "name": "stdout",
     "output_type": "stream",
     "text": [
      "[2, 3, 4]\n"
     ]
    }
   ],
   "source": [
    "#Q2):-\n",
    "L = [1,2,3,4,5,6,7]\n",
    "print(L[1:4])"
   ]
  },
  {
   "cell_type": "code",
   "execution_count": 9,
   "id": "3e8128a4-d935-4b47-bcaf-ba714db39998",
   "metadata": {},
   "outputs": [
    {
     "name": "stdout",
     "output_type": "stream",
     "text": [
      "[3, 8, 6, 5, 4]\n"
     ]
    }
   ],
   "source": [
    "#Q3):-\n",
    "L = [4,5,6,8,3]\n",
    "print(L[-1: : -1])"
   ]
  },
  {
   "cell_type": "code",
   "execution_count": 10,
   "id": "c5225f49-0ded-419b-9169-ec02d922bbb5",
   "metadata": {},
   "outputs": [
    {
     "name": "stdout",
     "output_type": "stream",
     "text": [
      "[4, 16, 49, 9, 36, 64]\n"
     ]
    }
   ],
   "source": [
    "#Q4):-\n",
    "L=[2,4,7,3,6,8]\n",
    "a=[i**2 for i in L]\n",
    "print(a)"
   ]
  },
  {
   "cell_type": "code",
   "execution_count": 13,
   "id": "c37f9e2a-9979-48ff-b128-83bc87c9304d",
   "metadata": {},
   "outputs": [
    {
     "name": "stdin",
     "output_type": "stream",
     "text": [
      "enter the number 1 2 3\n"
     ]
    },
    {
     "name": "stdout",
     "output_type": "stream",
     "text": [
      "6\n"
     ]
    }
   ],
   "source": [
    "#Q5):-\n",
    "def add(a):\n",
    "    return sum(int(i) for i in a)\n",
    "\n",
    "a=tuple(input(\"enter the number\").strip().split())\n",
    "print(add(a))"
   ]
  },
  {
   "cell_type": "code",
   "execution_count": 17,
   "id": "d0c70e8f-244a-4015-858f-87575fecbf73",
   "metadata": {},
   "outputs": [
    {
     "name": "stdout",
     "output_type": "stream",
     "text": [
      "{'grape', 'kiwi', 'orange', 'pear', 'banana', 'apple'}\n"
     ]
    }
   ],
   "source": [
    "#Q6):-\n",
    "fruits1 = {\"apple\", \"banana\", \"pear\"}\n",
    "fruits2 = {\"orange\", \"grape\", \"kiwi\"}\n",
    "combined_fruits =fruits1|fruits2\n",
    "print(combined_fruits)"
   ]
  },
  {
   "cell_type": "code",
   "execution_count": 18,
   "id": "be0d1cf7-5fdc-4afc-82ba-d71242e60ae7",
   "metadata": {},
   "outputs": [
    {
     "name": "stdout",
     "output_type": "stream",
     "text": [
      "{'hello', 'programming', 'python', 'world'}\n"
     ]
    }
   ],
   "source": [
    "#Q7):-\n",
    "words = {\"hello\", \"world\", \"python\"}\n",
    "words.add(\"programming\")\n",
    "print(words)"
   ]
  },
  {
   "cell_type": "code",
   "execution_count": 19,
   "id": "e637fac5-358f-4952-9190-1870bdadcf0b",
   "metadata": {},
   "outputs": [
    {
     "name": "stdout",
     "output_type": "stream",
     "text": [
      "{'parrot', 'hamster', 'dog'}\n"
     ]
    }
   ],
   "source": [
    "#Q8):-\n",
    "animals = {\"dog\", \"cat\", \"hamster\", \"parrot\"}\n",
    "animals.remove(\"cat\")\n",
    "print(animals)"
   ]
  },
  {
   "cell_type": "code",
   "execution_count": 20,
   "id": "9336b350-14af-4aba-8647-54fb6ce723c1",
   "metadata": {},
   "outputs": [
    {
     "name": "stdout",
     "output_type": "stream",
     "text": [
      "[('Pride and Prejudice', 'The Shawshank Redemption'), ('To Kill a Mockingbird', 'The Godfather'), ('1984', 'The Dark Knight')]\n"
     ]
    }
   ],
   "source": [
    "#Q9):-\n",
    "favorite_books = {\"1984\", \"To Kill a Mockingbird\", \"Pride and Prejudice\"}\n",
    "favorite_movies = [\"The Shawshank Redemption\", \"The Godfather\", \"The Dark Knight\"]\n",
    "book_movie_pairs = list(zip(favorite_books, favorite_movies))\n",
    "print(book_movie_pairs)"
   ]
  },
  {
   "cell_type": "code",
   "execution_count": 24,
   "id": "437b971c-3156-4392-b974-e0f71b827ed6",
   "metadata": {},
   "outputs": [
    {
     "name": "stdout",
     "output_type": "stream",
     "text": [
      "{'c': 10, 'd': 200, 'a': 20}\n"
     ]
    }
   ],
   "source": [
    "#Q10):-\n"
   ]
  },
  {
   "cell_type": "code",
   "execution_count": null,
   "id": "43d3e2db-2c34-4a55-aad8-c7ee2991964d",
   "metadata": {},
   "outputs": [],
   "source": []
  }
 ],
 "metadata": {
  "kernelspec": {
   "display_name": "Python 3 (ipykernel)",
   "language": "python",
   "name": "python3"
  },
  "language_info": {
   "codemirror_mode": {
    "name": "ipython",
    "version": 3
   },
   "file_extension": ".py",
   "mimetype": "text/x-python",
   "name": "python",
   "nbconvert_exporter": "python",
   "pygments_lexer": "ipython3",
   "version": "3.10.8"
  }
 },
 "nbformat": 4,
 "nbformat_minor": 5
}
